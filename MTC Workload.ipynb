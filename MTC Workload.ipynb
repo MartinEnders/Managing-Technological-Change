{
 "cells": [
  {
   "cell_type": "markdown",
   "metadata": {},
   "source": [
    "# Workload für MTC"
   ]
  },
  {
   "cell_type": "code",
   "execution_count": 1,
   "metadata": {
    "ExecuteTime": {
     "end_time": "2018-04-05T12:19:36.101175Z",
     "start_time": "2018-04-05T12:19:35.483233Z"
    }
   },
   "outputs": [],
   "source": [
    "# Init\n",
    "import pandas as pd     # To handle data\n",
    "import numpy as np      # For number computing\n",
    "\n",
    "# For plotting and visualization:\n",
    "from IPython.display import display\n",
    "import matplotlib.pyplot as plt\n",
    "import seaborn as sns\n",
    "%matplotlib inline\n",
    "\n",
    "font = {'family' : 'DejaVu Sans',\n",
    "        'weight' : 'bold',\n",
    "        'size'   : 20}\n",
    "\n",
    "plt.rc('font', **font)"
   ]
  },
  {
   "cell_type": "code",
   "execution_count": 2,
   "metadata": {
    "ExecuteTime": {
     "end_time": "2018-04-05T12:19:36.107943Z",
     "start_time": "2018-04-05T12:19:36.103665Z"
    }
   },
   "outputs": [],
   "source": [
    "workload = [\n",
    "    ['Art', 'WL / Einheit (h)', 'Anzahl'],\n",
    "    ['Vorlesung',1.5, 7],\n",
    "    ['Gastvortrag',1.5,5],\n",
    "    ['Schriftliche Prüfung',1,1],\n",
    "    ['Literaturstudium',2,12],\n",
    "    ['Vor- und Nachbereitung',1,12],\n",
    "    ['Vorbereitung Schriftliche Prüfung',5,5]\n",
    "]"
   ]
  },
  {
   "cell_type": "markdown",
   "metadata": {},
   "source": [
    "## Verteilung des Workloads"
   ]
  },
  {
   "cell_type": "code",
   "execution_count": 3,
   "metadata": {
    "ExecuteTime": {
     "end_time": "2018-04-05T12:19:36.157085Z",
     "start_time": "2018-04-05T12:19:36.111249Z"
    }
   },
   "outputs": [
    {
     "data": {
      "text/html": [
       "<div>\n",
       "<style scoped>\n",
       "    .dataframe tbody tr th:only-of-type {\n",
       "        vertical-align: middle;\n",
       "    }\n",
       "\n",
       "    .dataframe tbody tr th {\n",
       "        vertical-align: top;\n",
       "    }\n",
       "\n",
       "    .dataframe thead th {\n",
       "        text-align: right;\n",
       "    }\n",
       "</style>\n",
       "<table border=\"1\" class=\"dataframe\">\n",
       "  <thead>\n",
       "    <tr style=\"text-align: right;\">\n",
       "      <th></th>\n",
       "      <th>Art</th>\n",
       "      <th>WL / Einheit (h)</th>\n",
       "      <th>Anzahl</th>\n",
       "      <th>Summe</th>\n",
       "    </tr>\n",
       "  </thead>\n",
       "  <tbody>\n",
       "    <tr>\n",
       "      <th>0</th>\n",
       "      <td>Vorlesung</td>\n",
       "      <td>1.5</td>\n",
       "      <td>7</td>\n",
       "      <td>10.5</td>\n",
       "    </tr>\n",
       "    <tr>\n",
       "      <th>1</th>\n",
       "      <td>Gastvortrag</td>\n",
       "      <td>1.5</td>\n",
       "      <td>5</td>\n",
       "      <td>7.5</td>\n",
       "    </tr>\n",
       "    <tr>\n",
       "      <th>2</th>\n",
       "      <td>Schriftliche Prüfung</td>\n",
       "      <td>1.0</td>\n",
       "      <td>1</td>\n",
       "      <td>1.0</td>\n",
       "    </tr>\n",
       "    <tr>\n",
       "      <th>3</th>\n",
       "      <td>Literaturstudium</td>\n",
       "      <td>2.0</td>\n",
       "      <td>12</td>\n",
       "      <td>24.0</td>\n",
       "    </tr>\n",
       "    <tr>\n",
       "      <th>4</th>\n",
       "      <td>Vor- und Nachbereitung</td>\n",
       "      <td>1.0</td>\n",
       "      <td>12</td>\n",
       "      <td>12.0</td>\n",
       "    </tr>\n",
       "    <tr>\n",
       "      <th>5</th>\n",
       "      <td>Vorbereitung Schriftliche Prüfung</td>\n",
       "      <td>5.0</td>\n",
       "      <td>5</td>\n",
       "      <td>25.0</td>\n",
       "    </tr>\n",
       "  </tbody>\n",
       "</table>\n",
       "</div>"
      ],
      "text/plain": [
       "                                 Art  WL / Einheit (h)  Anzahl  Summe\n",
       "0                          Vorlesung               1.5       7   10.5\n",
       "1                        Gastvortrag               1.5       5    7.5\n",
       "2               Schriftliche Prüfung               1.0       1    1.0\n",
       "3                   Literaturstudium               2.0      12   24.0\n",
       "4             Vor- und Nachbereitung               1.0      12   12.0\n",
       "5  Vorbereitung Schriftliche Prüfung               5.0       5   25.0"
      ]
     },
     "execution_count": 3,
     "metadata": {},
     "output_type": "execute_result"
    }
   ],
   "source": [
    "df = pd.DataFrame(data=workload[1:],columns=workload[0])\n",
    "df['Summe'] = df['WL / Einheit (h)'] * df['Anzahl']\n",
    "df"
   ]
  },
  {
   "cell_type": "code",
   "execution_count": 4,
   "metadata": {
    "ExecuteTime": {
     "end_time": "2018-04-05T12:19:36.393871Z",
     "start_time": "2018-04-05T12:19:36.160626Z"
    }
   },
   "outputs": [
    {
     "data": {
      "text/plain": [
       "Text(0,0.5,'Stunden')"
      ]
     },
     "execution_count": 4,
     "metadata": {},
     "output_type": "execute_result"
    },
    {
     "data": {
      "image/png": "[encoded data removed]",
      "text/plain": [
       "<matplotlib.figure.Figure at 0x7fbe672e1f98>"
      ]
     },
     "metadata": {},
     "output_type": "display_data"
    }
   ],
   "source": [
    "ax = df.groupby('Art').agg(['sum'])['Summe'].sort_values(by='sum').plot.bar(legend=False,figsize=(10,8))\n",
    "ax.set_ylabel(\"Stunden\")"
   ]
  },
  {
   "cell_type": "code",
   "execution_count": 5,
   "metadata": {
    "ExecuteTime": {
     "end_time": "2018-04-05T12:19:36.408663Z",
     "start_time": "2018-04-05T12:19:36.395892Z"
    }
   },
   "outputs": [
    {
     "name": "stdout",
     "output_type": "stream",
     "text": [
      "Gesamter Workload: 80.0 Stunden\n",
      "Workload / Woche:  5.7 Stunden (14 Wochen im Sommersemester 2018)\n"
     ]
    }
   ],
   "source": [
    "workload_gesamt = df['Summe'].agg('sum')\n",
    "anzahl_wochen = 14\n",
    "workload_pro_woche = round((workload_gesamt / anzahl_wochen),1)\n",
    "print(\"Gesamter Workload: {} Stunden\".format(workload_gesamt))\n",
    "print(\"Workload / Woche:  {} Stunden ({} Wochen im Sommersemester 2018)\".format(workload_pro_woche,anzahl_wochen))"
   ]
  }
 ],
 "metadata": {
  "kernelspec": {
   "display_name": "Python 3",
   "language": "python",
   "name": "python3"
  },
  "language_info": {
   "codemirror_mode": {
    "name": "ipython",
    "version": 3
   },
   "file_extension": ".py",
   "mimetype": "text/x-python",
   "name": "python",
   "nbconvert_exporter": "python",
   "pygments_lexer": "ipython3",
   "version": "3.6.3"
  },
  "varInspector": {
   "cols": {
    "lenName": 16,
    "lenType": 16,
    "lenVar": 40
   },
   "kernels_config": {
    "python": {
     "delete_cmd_postfix": "",
     "delete_cmd_prefix": "del ",
     "library": "var_list.py",
     "varRefreshCmd": "print(var_dic_list())"
    },
    "r": {
     "delete_cmd_postfix": ") ",
     "delete_cmd_prefix": "rm(",
     "library": "var_list.r",
     "varRefreshCmd": "cat(var_dic_list()) "
    }
   },
   "types_to_exclude": [
    "module",
    "function",
    "builtin_function_or_method",
    "instance",
    "_Feature"
   ],
   "window_display": false
  }
 },
 "nbformat": 4,
 "nbformat_minor": 2
}
